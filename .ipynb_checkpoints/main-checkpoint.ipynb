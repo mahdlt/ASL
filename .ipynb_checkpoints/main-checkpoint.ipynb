{
 "cells": [
  {
   "cell_type": "markdown",
   "id": "cfe30eb5",
   "metadata": {},
   "source": [
    "### You still doesn't write comments for this notebook..."
   ]
  },
  {
   "cell_type": "code",
   "execution_count": 3,
   "id": "548dff07",
   "metadata": {},
   "outputs": [],
   "source": [
    "import numpy as np"
   ]
  },
  {
   "cell_type": "code",
   "execution_count": 4,
   "id": "8e225737",
   "metadata": {},
   "outputs": [],
   "source": [
    "# Initialize the parameters\n",
    "def config():\n",
    "    conf = {}\n",
    "    conf['input_size'] = 42\n",
    "    conf['output_size'] = 1\n",
    "    conf['learning_rate'] = float(input(\"say the learning rate:\"))\n",
    "    conf['activation'] = input(\"what is activation function?\")\n",
    "    conf['batch'] = int(input(\"say batch size:\"))\n",
    "    conf['n_iter'] = int(input(\"say number of iterations:\"))\n",
    "    conf['n_layers'] = int(input(\"say number of layers:\"))\n",
    "    for i in range(conf['n_layers'] - 2):\n",
    "        conf['neuron{}'.format(i)] = int(input(\"say the number of neurons of {}th hidden layer:\"\\\n",
    "                                              .format(i)))\n",
    "    return conf"
   ]
  },
  {
   "cell_type": "code",
   "execution_count": 13,
   "id": "2b3a23aa",
   "metadata": {},
   "outputs": [],
   "source": [
    "class Layer():\n",
    "    def __init__():\n",
    "        self.input = None\n",
    "        self.output = None\n",
    "    \n",
    "    def forward(self, input):\n",
    "        # Do feed-forward and return output\n",
    "        pass\n",
    "    \n",
    "    def backward(self, output_gradient, learning_rate):\n",
    "        # Do back propagation. Update traineble parameters and return input gradient.\n",
    "        pass\n",
    "    "
   ]
  },
  {
   "cell_type": "code",
   "execution_count": null,
   "id": "9eeb068a",
   "metadata": {},
   "outputs": [],
   "source": [
    "class Dense(Layer):\n",
    "    def __init__(self, input_size, output_size):\n",
    "        self.weights = np.random.randn(input_size, output_size)\n",
    "        self.bias = np.random.randn(output_size, 1)\n",
    "        \n",
    "        \n",
    "    def forward(self, input):\n",
    "        self.input = input\n",
    "        return np.dot(input, )"
   ]
  },
  {
   "cell_type": "code",
   "execution_count": 5,
   "id": "5e094619",
   "metadata": {},
   "outputs": [],
   "source": [
    "# Define activation functions for feedforward and backpropagation\n",
    "class ReLU():\n",
    "    def forward(self, x):\n",
    "        self.input = x\n",
    "        return x * (x > 0)\n",
    "    \n",
    "    def backward(self, grad_output):\n",
    "        return grad_output * (self.input > 0)\n",
    "\n",
    "class Sigmoid():\n",
    "    def sigmoid(self, x):\n",
    "        return 1 / (1 + np.exp(-x))\n",
    "    \n",
    "    def forward(self, x):\n",
    "        self.input = x\n",
    "        return self.sigmoid(x)\n",
    "    \n",
    "    def backward(self, grad_output):\n",
    "        sigmoid_output = self.sigmoid(self.input)\n",
    "        return grad_output * sigmoid_output * (1 - sigmoid_output)\n",
    "    \n",
    "class Softmax():\n",
    "    \n",
    "    def softmax(self, x):\n",
    "        exponential = np.exp(x - np.)"
   ]
  },
  {
   "cell_type": "code",
   "execution_count": null,
   "id": "0b2576ab",
   "metadata": {},
   "outputs": [],
   "source": []
  },
  {
   "cell_type": "code",
   "execution_count": 9,
   "id": "55d41192",
   "metadata": {},
   "outputs": [],
   "source": [
    "data = np.load(\"./Data/x_10classes.npy\")"
   ]
  },
  {
   "cell_type": "code",
   "execution_count": 29,
   "id": "a10d376e",
   "metadata": {},
   "outputs": [
    {
     "data": {
      "text/plain": [
       "(20843, 42)"
      ]
     },
     "execution_count": 29,
     "metadata": {},
     "output_type": "execute_result"
    }
   ],
   "source": [
    "data.shape"
   ]
  },
  {
   "cell_type": "code",
   "execution_count": 16,
   "id": "509560a0",
   "metadata": {},
   "outputs": [],
   "source": [
    "a = np.array([[1, 0], [0, 1]])\n",
    "b = np.array([[4, 1], [2, 2]])"
   ]
  },
  {
   "cell_type": "code",
   "execution_count": 19,
   "id": "3ee38911",
   "metadata": {},
   "outputs": [],
   "source": [
    "c = np.dot(a, b)"
   ]
  },
  {
   "cell_type": "code",
   "execution_count": 28,
   "id": "c76d137f",
   "metadata": {},
   "outputs": [
    {
     "data": {
      "text/plain": [
       "4"
      ]
     },
     "execution_count": 28,
     "metadata": {},
     "output_type": "execute_result"
    }
   ],
   "source": [
    "c[0][0]"
   ]
  },
  {
   "cell_type": "code",
   "execution_count": 26,
   "id": "32f1a2e4",
   "metadata": {},
   "outputs": [
    {
     "data": {
      "text/plain": [
       "array([[1, 0],\n",
       "       [0, 1]])"
      ]
     },
     "execution_count": 26,
     "metadata": {},
     "output_type": "execute_result"
    }
   ],
   "source": [
    "a"
   ]
  },
  {
   "cell_type": "code",
   "execution_count": 27,
   "id": "6ff5861c",
   "metadata": {},
   "outputs": [
    {
     "data": {
      "text/plain": [
       "array([[4, 1],\n",
       "       [2, 2]])"
      ]
     },
     "execution_count": 27,
     "metadata": {},
     "output_type": "execute_result"
    }
   ],
   "source": [
    "b"
   ]
  },
  {
   "cell_type": "code",
   "execution_count": 30,
   "id": "6dcdbc06",
   "metadata": {},
   "outputs": [],
   "source": [
    "X = np.reshape([[0, 0], [0, 1], [1, 0], [1, 1]], (4, 2, 1))\n",
    "Y = np.reshape([[0], [1], [1], [0]], (4, 1, 1))"
   ]
  },
  {
   "cell_type": "code",
   "execution_count": 32,
   "id": "c80e4cba",
   "metadata": {},
   "outputs": [
    {
     "data": {
      "text/plain": [
       "(4, 2, 1)"
      ]
     },
     "execution_count": 32,
     "metadata": {},
     "output_type": "execute_result"
    }
   ],
   "source": [
    "X.shape"
   ]
  },
  {
   "cell_type": "code",
   "execution_count": 33,
   "id": "12984c99",
   "metadata": {},
   "outputs": [
    {
     "data": {
      "text/plain": [
       "(4, 1, 1)"
      ]
     },
     "execution_count": 33,
     "metadata": {},
     "output_type": "execute_result"
    }
   ],
   "source": [
    "Y.shape"
   ]
  },
  {
   "cell_type": "code",
   "execution_count": 34,
   "id": "1aad47ac",
   "metadata": {},
   "outputs": [
    {
     "data": {
      "text/plain": [
       "array([[[0],\n",
       "        [0]],\n",
       "\n",
       "       [[0],\n",
       "        [1]],\n",
       "\n",
       "       [[1],\n",
       "        [0]],\n",
       "\n",
       "       [[1],\n",
       "        [1]]])"
      ]
     },
     "execution_count": 34,
     "metadata": {},
     "output_type": "execute_result"
    }
   ],
   "source": [
    "X"
   ]
  },
  {
   "cell_type": "code",
   "execution_count": null,
   "id": "5cc2c172",
   "metadata": {},
   "outputs": [],
   "source": []
  }
 ],
 "metadata": {
  "kernelspec": {
   "display_name": "Python 3 (ipykernel)",
   "language": "python",
   "name": "python3"
  },
  "language_info": {
   "codemirror_mode": {
    "name": "ipython",
    "version": 3
   },
   "file_extension": ".py",
   "mimetype": "text/x-python",
   "name": "python",
   "nbconvert_exporter": "python",
   "pygments_lexer": "ipython3",
   "version": "3.9.7"
  }
 },
 "nbformat": 4,
 "nbformat_minor": 5
}
