{
 "cells": [
  {
   "cell_type": "code",
   "execution_count": 1,
   "id": "548dff07",
   "metadata": {},
   "outputs": [],
   "source": [
    "import numpy as np"
   ]
  },
  {
   "cell_type": "code",
   "execution_count": 17,
   "id": "8e225737",
   "metadata": {},
   "outputs": [],
   "source": [
    "# Initialize the parameters\n",
    "def config():\n",
    "    conf = {}\n",
    "    conf['input_size'] = 42\n",
    "    conf['output_size'] = 1\n",
    "    conf['learning_rate'] = float(input(\"say the learning rate:\"))\n",
    "    conf['activation'] = input(\"what is activation function?\")\n",
    "    conf['batch'] = int(input(\"say batch size:\"))\n",
    "    conf['n_iter'] = int(input(\"say number of iterations:\"))\n",
    "    conf['n_layers'] = int(input(\"say number of layers:\"))\n",
    "    for i in range(conf['n_layers'] - 2):\n",
    "        conf['neuron{}'.format(i)] = int(input(\"say the number of neurons of {}th hidden layer:\"\\\n",
    "                                              .format(i)))\n",
    "    return conf"
   ]
  },
  {
   "cell_type": "code",
   "execution_count": 13,
   "id": "5e094619",
   "metadata": {},
   "outputs": [
    {
     "name": "stdout",
     "output_type": "stream",
     "text": [
      "what is activation function?relu\n",
      "say batch size:100\n",
      "say number of iterations:1000\n",
      "say number of layers:4\n",
      "say the number of neurons of 0th hidden layer:2\n",
      "say the number of neurons of 1th hidden layer:3\n"
     ]
    }
   ],
   "source": [
    "# Define activation functions for feedforward and backpropagation\n"
   ]
  },
  {
   "cell_type": "code",
   "execution_count": 14,
   "id": "55d41192",
   "metadata": {},
   "outputs": [
    {
     "data": {
      "text/plain": [
       "{'input_size': 42,\n",
       " 'output_size': 1,\n",
       " 'activation': 'relu',\n",
       " 'batch': 100,\n",
       " 'n_iter': 1000,\n",
       " 'n_layers': 4,\n",
       " 'neuron0': 2,\n",
       " 'neuron1': 3}"
      ]
     },
     "execution_count": 14,
     "metadata": {},
     "output_type": "execute_result"
    }
   ],
   "source": []
  },
  {
   "cell_type": "code",
   "execution_count": null,
   "id": "a10d376e",
   "metadata": {},
   "outputs": [],
   "source": []
  }
 ],
 "metadata": {
  "kernelspec": {
   "display_name": "Python 3 (ipykernel)",
   "language": "python",
   "name": "python3"
  },
  "language_info": {
   "codemirror_mode": {
    "name": "ipython",
    "version": 3
   },
   "file_extension": ".py",
   "mimetype": "text/x-python",
   "name": "python",
   "nbconvert_exporter": "python",
   "pygments_lexer": "ipython3",
   "version": "3.9.7"
  }
 },
 "nbformat": 4,
 "nbformat_minor": 5
}
